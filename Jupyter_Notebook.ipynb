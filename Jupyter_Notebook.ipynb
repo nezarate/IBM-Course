{
  "metadata": {
    "kernelspec": {
      "name": "python",
      "display_name": "Pyolite",
      "language": "python"
    },
    "language_info": {
      "codemirror_mode": {
        "name": "python",
        "version": 3
      },
      "file_extension": ".py",
      "mimetype": "text/x-python",
      "name": "python",
      "nbconvert_exporter": "python",
      "pygments_lexer": "ipython3",
      "version": "3.8"
    }
  },
  "nbformat_minor": 4,
  "nbformat": 4,
  "cells": [
    {
      "cell_type": "markdown",
      "source": "# My Jupyter Notebook on IBM Watson Studio\n",
      "metadata": {}
    },
    {
      "cell_type": "markdown",
      "source": "**Nicholas**\nBioinformatician",
      "metadata": {}
    },
    {
      "cell_type": "markdown",
      "source": "*I am interested in data science because in the biological sciences there is an immense amount of data being collected in which new relationships between variables can be found. Furthermore, I enjoy that data science is like a puzzle in which you are trying to put things together to make meaningful results.*",
      "metadata": {}
    },
    {
      "cell_type": "markdown",
      "source": "### The code below adds two integers together.\n",
      "metadata": {}
    },
    {
      "cell_type": "code",
      "source": "5 + 3",
      "metadata": {
        "trusted": true
      },
      "execution_count": 8,
      "outputs": [
        {
          "execution_count": 8,
          "output_type": "execute_result",
          "data": {
            "text/plain": "8"
          },
          "metadata": {}
        }
      ]
    },
    {
      "cell_type": "markdown",
      "source": "* Bullet\n* List\n* Example\n\n***\n\nData science is cool!\n\n***\n\n> Hello World!\n",
      "metadata": {}
    }
  ]
}